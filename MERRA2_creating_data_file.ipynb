{
 "cells": [
  {
   "cell_type": "code",
   "execution_count": 1,
   "metadata": {},
   "outputs": [],
   "source": [
    "#from mpl_toolkits.basemap import Basemap\n",
    "import numpy as np\n",
    "import pandas as pd\n",
    "import matplotlib.pyplot as plt\n",
    "from netCDF4 import Dataset\n",
    "import matplotlib.patheffects as path_effects\n",
    "import sys as s\n",
    "import os \n",
    "from cartopy import config\n",
    "import cartopy.crs as ccrs\n",
    "import matplotlib.ticker as mticker\n",
    "from cartopy.mpl.gridliner import LONGITUDE_FORMATTER, LATITUDE_FORMATTER\n",
    "\n",
    "#import os\n",
    "#os.getcwd()\n",
    "#os.chdir(r'D:\\New_Life\\Notebooks"
   ]
  },
  {
   "cell_type": "code",
   "execution_count": 3,
   "metadata": {},
   "outputs": [],
   "source": [
    "final_dates = np.array(['20180825','20180826','20180827','20180828','20180829','20180830','20180831'],dtype='str')\n",
    "aoda=[]\n",
    "aodi=[]\n",
    "aoda_mean=[]\n",
    "aodi_mean=[]\n",
    "\n",
    "for i in final_dates:\n",
    "    #Reading MERRA2 Data from netCDF file \n",
    "    path1='C:/Users/kmmra/Downloads/Downloads/'\n",
    "    data = Dataset(path1+'MERRA2_400.inst3_2d_gas_Nx.'+i+'.nc4', mode='r')\n",
    "    #print('************************Data1*******************************')\n",
    "    #print(data)\n",
    "    lats = data.variables['lat'][:]\n",
    "    lons = data.variables['lon'][:]\n",
    "    aodana = data.variables['AODANA'][:,:,:]\n",
    "    aodinc = data.variables['AODINC'][:,:,:]\n",
    "    aodana_mean=np.mean(aodana, axis=0)\n",
    "    aodinc_mean=np.mean(aodana, axis=0)\n",
    "    aoda.append(aodana)\n",
    "    aodi.append(aodinc)\n",
    "    aoda_mean.append(aodana_mean)\n",
    "    aodi_mean.append(aodinc_mean)\n",
    "aodana=np.array(aoda)\n",
    "aodinc=np.array(aodi)\n",
    "aodana_mean=np.array(aoda_mean)\n",
    "aodinc_mean=np.array(aodi_mean)\n",
    "\n",
    "np.savez('merra2_aodana_aodinc_from_20180825_20180831',aodana=aodana,aodinc=aodinc,\n",
    "         aodana_mean=aodana_mean,aodinc_mean=aodinc_mean,final_dates=final_dates,lats=lats,lons=lons)"
   ]
  },
  {
   "cell_type": "code",
   "execution_count": 4,
   "metadata": {},
   "outputs": [
    {
     "data": {
      "text/plain": [
       "['aodana',\n",
       " 'aodana_mean',\n",
       " 'aodinc',\n",
       " 'aodinc_mean',\n",
       " 'final_dates',\n",
       " 'lats',\n",
       " 'lons']"
      ]
     },
     "execution_count": 4,
     "metadata": {},
     "output_type": "execute_result"
    }
   ],
   "source": [
    "npzfile=np.load('merra2_aodana_aodinc_from_20180825_20180831.npz') # Open .npz file\n",
    "sorted(npzfile.files)          #To visualize all arrays in the file\n",
    "#aod=npzfile['aodana_mean']     #Load an array"
   ]
  },
  {
   "cell_type": "code",
   "execution_count": 5,
   "metadata": {},
   "outputs": [
    {
     "data": {
      "text/plain": [
       "(7, 8, 361, 576)"
      ]
     },
     "execution_count": 5,
     "metadata": {},
     "output_type": "execute_result"
    }
   ],
   "source": [
    "aodana.shape"
   ]
  },
  {
   "cell_type": "code",
   "execution_count": 6,
   "metadata": {},
   "outputs": [
    {
     "data": {
      "text/plain": [
       "(7, 361, 576)"
      ]
     },
     "execution_count": 6,
     "metadata": {},
     "output_type": "execute_result"
    }
   ],
   "source": [
    "aodana_mean.shape"
   ]
  },
  {
   "cell_type": "code",
   "execution_count": null,
   "metadata": {},
   "outputs": [],
   "source": []
  }
 ],
 "metadata": {
  "kernelspec": {
   "display_name": "Python 3",
   "language": "python",
   "name": "python3"
  },
  "language_info": {
   "codemirror_mode": {
    "name": "ipython",
    "version": 3
   },
   "file_extension": ".py",
   "mimetype": "text/x-python",
   "name": "python",
   "nbconvert_exporter": "python",
   "pygments_lexer": "ipython3",
   "version": "3.8.8"
  }
 },
 "nbformat": 4,
 "nbformat_minor": 4
}
